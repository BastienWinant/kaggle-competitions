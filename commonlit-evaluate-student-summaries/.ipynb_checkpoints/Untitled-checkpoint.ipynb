{
 "cells": [
  {
   "cell_type": "code",
   "execution_count": 1,
   "id": "c75e0374-c5da-48ea-9e09-53c01e06d834",
   "metadata": {},
   "outputs": [],
   "source": [
    "import pandas as pd\n",
    "import numpy as np"
   ]
  },
  {
   "cell_type": "code",
   "execution_count": 4,
   "id": "2353a452-3f4e-4121-b380-d065afe103d6",
   "metadata": {},
   "outputs": [],
   "source": [
    "prompts_df = pd.read_csv(\"./data/prompts_train.csv\")\n",
    "summaries_df = pd.read_csv(\"./data/summaries_train.csv\")"
   ]
  },
  {
   "cell_type": "code",
   "execution_count": 6,
   "id": "d9a7ca36-6af9-4fd3-9841-db2e63ee4a83",
   "metadata": {},
   "outputs": [
    {
     "name": "stdout",
     "output_type": "stream",
     "text": [
      "Number of training prompts: 4\n",
      "Number of training summaries: 7165\n"
     ]
    }
   ],
   "source": [
    "try:\n",
    "    assert(prompts_df.shape[0] == summaries_df.shape[0])\n",
    "except AssertionError:\n",
    "    print(\"Number of training prompts:\", prompts_df.shape[0])\n",
    "    print(\"Number of training summaries:\", summaries_df.shape[0])"
   ]
  },
  {
   "cell_type": "code",
   "execution_count": 24,
   "id": "b4fb85c3-dd35-4197-bca8-c13b72ca3596",
   "metadata": {},
   "outputs": [],
   "source": [
    "def checkSharedColumn():\n",
    "    prompts_cols = set(prompts_df.columns)\n",
    "    summaries_cols = set(summaries_df.columns)\n",
    "\n",
    "    # ensure the columns are returned as sets\n",
    "    assert(type(prompts_cols) == set)\n",
    "    assert(type(summaries_cols) == set)\n",
    "\n",
    "    # check that the intersection results in a set\n",
    "    assert(type(prompts_cols.intersection(summaries_cols)) == set)\n",
    "\n",
    "    # ensure that the two dataframes share at least one column\n",
    "    shared_columns = prompts_cols.intersection(summaries_cols)\n",
    "    assert(len(shared_columns) > 0)\n",
    "\n",
    "    return shared_columns"
   ]
  },
  {
   "cell_type": "code",
   "execution_count": 25,
   "id": "ad2b8945-e562-4af1-965a-5f6d0ed3834f",
   "metadata": {},
   "outputs": [],
   "source": [
    "checkSharedColumn()"
   ]
  },
  {
   "cell_type": "code",
   "execution_count": null,
   "id": "4aacf3dd-0ab2-4890-92a2-e5c4b26a2c22",
   "metadata": {},
   "outputs": [],
   "source": []
  }
 ],
 "metadata": {
  "kernelspec": {
   "display_name": "Python 3 (ipykernel)",
   "language": "python",
   "name": "python3"
  },
  "language_info": {
   "codemirror_mode": {
    "name": "ipython",
    "version": 3
   },
   "file_extension": ".py",
   "mimetype": "text/x-python",
   "name": "python",
   "nbconvert_exporter": "python",
   "pygments_lexer": "ipython3",
   "version": "3.9.6"
  }
 },
 "nbformat": 4,
 "nbformat_minor": 5
}
