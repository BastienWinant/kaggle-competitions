{
 "cells": [
  {
   "cell_type": "code",
   "execution_count": 1,
   "id": "7da7b76b-4cba-47ac-8414-46c7b3af08eb",
   "metadata": {},
   "outputs": [],
   "source": [
    "from commonlitDataset import Dataset"
   ]
  },
  {
   "cell_type": "code",
   "execution_count": 2,
   "id": "64d4c8d9-a957-4178-8ec6-ab7e64d0694d",
   "metadata": {},
   "outputs": [],
   "source": [
    "dataset = Dataset()"
   ]
  },
  {
   "cell_type": "code",
   "execution_count": 3,
   "id": "983cb6f1-33e0-4b1e-8cb4-22252cf2da6c",
   "metadata": {},
   "outputs": [
    {
     "data": {
      "text/plain": [
       "commonlitDataset.Dataset"
      ]
     },
     "execution_count": 3,
     "metadata": {},
     "output_type": "execute_result"
    }
   ],
   "source": [
    "type(dataset)"
   ]
  },
  {
   "cell_type": "code",
   "execution_count": null,
   "id": "bb5dda1d-b5b0-430b-a6e3-f70134829a6d",
   "metadata": {},
   "outputs": [],
   "source": []
  }
 ],
 "metadata": {
  "kernelspec": {
   "display_name": "Python 3 (ipykernel)",
   "language": "python",
   "name": "python3"
  },
  "language_info": {
   "codemirror_mode": {
    "name": "ipython",
    "version": 3
   },
   "file_extension": ".py",
   "mimetype": "text/x-python",
   "name": "python",
   "nbconvert_exporter": "python",
   "pygments_lexer": "ipython3",
   "version": "3.9.6"
  }
 },
 "nbformat": 4,
 "nbformat_minor": 5
}
