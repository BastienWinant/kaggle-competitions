{
 "cells": [
  {
   "cell_type": "code",
   "execution_count": 1,
   "id": "c75e0374-c5da-48ea-9e09-53c01e06d834",
   "metadata": {},
   "outputs": [],
   "source": [
    "import pandas as pd\n",
    "import numpy as np"
   ]
  },
  {
   "cell_type": "code",
   "execution_count": 4,
   "id": "2353a452-3f4e-4121-b380-d065afe103d6",
   "metadata": {},
   "outputs": [],
   "source": [
    "prompts_df = pd.read_csv(\"./data/prompts_train.csv\")\n",
    "summaries_df = pd.read_csv(\"./data/summaries_train.csv\")"
   ]
  },
  {
   "cell_type": "code",
   "execution_count": 6,
   "id": "d9a7ca36-6af9-4fd3-9841-db2e63ee4a83",
   "metadata": {},
   "outputs": [
    {
     "name": "stdout",
     "output_type": "stream",
     "text": [
      "Number of training prompts: 4\n",
      "Number of training summaries: 7165\n"
     ]
    }
   ],
   "source": [
    "try:\n",
    "    assert(prompts_df.shape[0] == summaries_df.shape[0])\n",
    "except AssertionError:\n",
    "    print(\"Number of training prompts:\", prompts_df.shape[0])\n",
    "    print(\"Number of training summaries:\", summaries_df.shape[0])"
   ]
  },
  {
   "cell_type": "code",
   "execution_count": 27,
   "id": "b4fb85c3-dd35-4197-bca8-c13b72ca3596",
   "metadata": {},
   "outputs": [],
   "source": [
    "def checkSharedColumn():\n",
    "    prompts_cols = set(prompts_df.columns)\n",
    "    summaries_cols = set(summaries_df.columns)\n",
    "\n",
    "    # ensure the columns are returned as sets\n",
    "    assert(type(prompts_cols) == set)\n",
    "    assert(type(summaries_cols) == set)\n",
    "\n",
    "    # check that the intersection results in a set\n",
    "    assert(type(prompts_cols.intersection(summaries_cols)) == set)\n",
    "\n",
    "    # ensure that the two dataframes share at least one column\n",
    "    shared_columns = prompts_cols.intersection(summaries_cols)\n",
    "    assert(len(shared_columns) > 0)\n",
    "\n",
    "    return shared_columns"
   ]
  },
  {
   "cell_type": "code",
   "execution_count": 28,
   "id": "ad2b8945-e562-4af1-965a-5f6d0ed3834f",
   "metadata": {},
   "outputs": [],
   "source": [
    "merge_columns = checkSharedColumn()"
   ]
  },
  {
   "cell_type": "code",
   "execution_count": 37,
   "id": "4aacf3dd-0ab2-4890-92a2-e5c4b26a2c22",
   "metadata": {},
   "outputs": [],
   "source": [
    "df = summaries_df.merge(prompts_df, how=\"inner\", on=list(merge_columns))"
   ]
  },
  {
   "cell_type": "code",
   "execution_count": 38,
   "id": "ab6c19a9-67ae-4c21-b711-d81daa299075",
   "metadata": {},
   "outputs": [],
   "source": [
    "# verify that each summary match one of the prompts\n",
    "assert(df.loc[:, list(merge_columns)].isna().sum().sum() == 0)"
   ]
  },
  {
   "cell_type": "code",
   "execution_count": 39,
   "id": "e89cc56b-8f9d-4310-99c3-fee6c53922bf",
   "metadata": {},
   "outputs": [
    {
     "data": {
      "text/html": [
       "<div>\n",
       "<style scoped>\n",
       "    .dataframe tbody tr th:only-of-type {\n",
       "        vertical-align: middle;\n",
       "    }\n",
       "\n",
       "    .dataframe tbody tr th {\n",
       "        vertical-align: top;\n",
       "    }\n",
       "\n",
       "    .dataframe thead th {\n",
       "        text-align: right;\n",
       "    }\n",
       "</style>\n",
       "<table border=\"1\" class=\"dataframe\">\n",
       "  <thead>\n",
       "    <tr style=\"text-align: right;\">\n",
       "      <th></th>\n",
       "      <th>student_id</th>\n",
       "      <th>prompt_id</th>\n",
       "      <th>text</th>\n",
       "      <th>content</th>\n",
       "      <th>wording</th>\n",
       "      <th>prompt_question</th>\n",
       "      <th>prompt_title</th>\n",
       "      <th>prompt_text</th>\n",
       "    </tr>\n",
       "  </thead>\n",
       "  <tbody>\n",
       "    <tr>\n",
       "      <th>0</th>\n",
       "      <td>000e8c3c7ddb</td>\n",
       "      <td>814d6b</td>\n",
       "      <td>The third wave was an experimentto see how peo...</td>\n",
       "      <td>0.205683</td>\n",
       "      <td>0.380538</td>\n",
       "      <td>Summarize how the Third Wave developed over su...</td>\n",
       "      <td>The Third Wave</td>\n",
       "      <td>Background \\r\\nThe Third Wave experiment took ...</td>\n",
       "    </tr>\n",
       "    <tr>\n",
       "      <th>1</th>\n",
       "      <td>0070c9e7af47</td>\n",
       "      <td>814d6b</td>\n",
       "      <td>The Third Wave developed  rapidly because the ...</td>\n",
       "      <td>3.272894</td>\n",
       "      <td>3.219757</td>\n",
       "      <td>Summarize how the Third Wave developed over su...</td>\n",
       "      <td>The Third Wave</td>\n",
       "      <td>Background \\r\\nThe Third Wave experiment took ...</td>\n",
       "    </tr>\n",
       "    <tr>\n",
       "      <th>2</th>\n",
       "      <td>0095993991fe</td>\n",
       "      <td>814d6b</td>\n",
       "      <td>The third wave only started as an experiment w...</td>\n",
       "      <td>0.205683</td>\n",
       "      <td>0.380538</td>\n",
       "      <td>Summarize how the Third Wave developed over su...</td>\n",
       "      <td>The Third Wave</td>\n",
       "      <td>Background \\r\\nThe Third Wave experiment took ...</td>\n",
       "    </tr>\n",
       "    <tr>\n",
       "      <th>3</th>\n",
       "      <td>00c20c6ddd23</td>\n",
       "      <td>814d6b</td>\n",
       "      <td>The experimen was orginally about how even whe...</td>\n",
       "      <td>0.567975</td>\n",
       "      <td>0.969062</td>\n",
       "      <td>Summarize how the Third Wave developed over su...</td>\n",
       "      <td>The Third Wave</td>\n",
       "      <td>Background \\r\\nThe Third Wave experiment took ...</td>\n",
       "    </tr>\n",
       "    <tr>\n",
       "      <th>4</th>\n",
       "      <td>00d40ad10dc9</td>\n",
       "      <td>814d6b</td>\n",
       "      <td>The third wave developed so quickly due to the...</td>\n",
       "      <td>-0.910596</td>\n",
       "      <td>-0.081769</td>\n",
       "      <td>Summarize how the Third Wave developed over su...</td>\n",
       "      <td>The Third Wave</td>\n",
       "      <td>Background \\r\\nThe Third Wave experiment took ...</td>\n",
       "    </tr>\n",
       "  </tbody>\n",
       "</table>\n",
       "</div>"
      ],
      "text/plain": [
       "     student_id prompt_id                                               text  \\\n",
       "0  000e8c3c7ddb    814d6b  The third wave was an experimentto see how peo...   \n",
       "1  0070c9e7af47    814d6b  The Third Wave developed  rapidly because the ...   \n",
       "2  0095993991fe    814d6b  The third wave only started as an experiment w...   \n",
       "3  00c20c6ddd23    814d6b  The experimen was orginally about how even whe...   \n",
       "4  00d40ad10dc9    814d6b  The third wave developed so quickly due to the...   \n",
       "\n",
       "    content   wording                                    prompt_question  \\\n",
       "0  0.205683  0.380538  Summarize how the Third Wave developed over su...   \n",
       "1  3.272894  3.219757  Summarize how the Third Wave developed over su...   \n",
       "2  0.205683  0.380538  Summarize how the Third Wave developed over su...   \n",
       "3  0.567975  0.969062  Summarize how the Third Wave developed over su...   \n",
       "4 -0.910596 -0.081769  Summarize how the Third Wave developed over su...   \n",
       "\n",
       "     prompt_title                                        prompt_text  \n",
       "0  The Third Wave  Background \\r\\nThe Third Wave experiment took ...  \n",
       "1  The Third Wave  Background \\r\\nThe Third Wave experiment took ...  \n",
       "2  The Third Wave  Background \\r\\nThe Third Wave experiment took ...  \n",
       "3  The Third Wave  Background \\r\\nThe Third Wave experiment took ...  \n",
       "4  The Third Wave  Background \\r\\nThe Third Wave experiment took ...  "
      ]
     },
     "execution_count": 39,
     "metadata": {},
     "output_type": "execute_result"
    }
   ],
   "source": []
  },
  {
   "cell_type": "code",
   "execution_count": 42,
   "id": "20f1d4dc-11e0-4955-9894-faf2ca122c95",
   "metadata": {},
   "outputs": [
    {
     "data": {
      "text/plain": [
       "student_id         0\n",
       "prompt_id          0\n",
       "text               0\n",
       "content            0\n",
       "wording            0\n",
       "prompt_question    0\n",
       "prompt_title       0\n",
       "prompt_text        0\n",
       "text_lower_case    0\n",
       "dtype: int64"
      ]
     },
     "execution_count": 42,
     "metadata": {},
     "output_type": "execute_result"
    }
   ],
   "source": [
    "df.isna().sum()"
   ]
  },
  {
   "cell_type": "code",
   "execution_count": null,
   "id": "f0cb88c7-1880-4fd1-89fe-403d4011048b",
   "metadata": {},
   "outputs": [],
   "source": []
  }
 ],
 "metadata": {
  "kernelspec": {
   "display_name": "Python 3 (ipykernel)",
   "language": "python",
   "name": "python3"
  },
  "language_info": {
   "codemirror_mode": {
    "name": "ipython",
    "version": 3
   },
   "file_extension": ".py",
   "mimetype": "text/x-python",
   "name": "python",
   "nbconvert_exporter": "python",
   "pygments_lexer": "ipython3",
   "version": "3.9.6"
  }
 },
 "nbformat": 4,
 "nbformat_minor": 5
}
